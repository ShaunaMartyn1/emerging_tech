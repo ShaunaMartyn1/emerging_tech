{
 "cells": [
  {
   "cell_type": "code",
   "execution_count": null,
   "metadata": {},
   "outputs": [],
   "source": [
    "## Project\n",
    "### Deutsch's Algorithm "
   ]
  },
  {
   "cell_type": "markdown",
   "metadata": {},
   "source": [
    "Classical computing is built on classical bits which can be represented as either 0 or 1. Classical computers process information using Boolean logic. The data is encoded in a binary format in a sequence of 0s and 1s. Operations are performed in a sequence and the outcome depends on the state of the bits. Classical algorithms are step-by-step instructions designed to solve specific problems. Classical computers use RAM (Random Access Memory) to store data temporarily. There are limitations of solving complex problems using classical computing such as factoring large number or simulating quantum systems. Scaling classical computers becomes challenging for certain types of problems due to physical constraints such as power consumption, memory access times, transistor size and heat dissipation.\n",
    "\n",
    "Quantum computing operates on quantum bits(qubits) which can exist in a superposition states (a combination of 0 and 1). Quantum computers use quantum gates for processing information such as Hadamard gate and CNOT gate. These gates can perform operations on qubits in superposition. Quantum information is represented using a combination of states, allowing for parallel processing of multiple possibilities. Quantum computers utilize the unique properties of quantum mechanics such as superposition and entanglement to process and manipulate information in a way that allows them to perform multiple computations at the same time. Quantum algorithms like Shor’s Algorithm or Grover’s Algorithm use quantum principles to solve specific problems more efficiently than classical algorithms. Quantum memory is more complex and is an area of active research. It involves maintaining superposition states without collapsing into definite values. Quantum computing has the potential for solving problems like factoring large numbers, simulating quantum systems, and optimising complex systems. The development of quantum computers is still in its early stages. Building and maintaining stable error resistant qubits is significantly challenging. The term “quantum supremacy” refers to the point at which a quantum computer can solve a problem that would be practically impossible for classical computers to solve in a reasonable time frame. The field of quantum computing is developing quickly. \n",
    "\n",
    "In computer science and mathematics an oracle is an abstract entity that represents a black box providing a specific computational function. It serves as a theoretical tool to analyse algorithms. Oracles are used to model situations where certain information or calculations are provided instantly without having to reveal how the information is obtained. \n",
    "\n"
   ]
  },
  {
   "cell_type": "markdown",
   "metadata": {},
   "source": [
    "\n",
    "Deutsch’s Algorithm is quantum algorithm developed by David Deutsch in 1985. It is one of the earliest and simplest quantum algorithms designed to solve a specific problem related to oracles faster that any classical algorithm. \n",
    "This problem involves determining whether a given function represented by an oracle is either “constant” or” balanced”. A constant function outputs the same value (0 or 1) for all possible inputs. A balanced function outputs an equal number of 0s and 1s for all possible inputs.\n",
    "The classical approach to solving this problem would be to require at least two function evaluations to determine whether the function is constant or balanced. Deutsch’s algorithm uses principles of quantum computing to achieve this with just one query to the function. This demonstrates how quickly quantum algorithms can provide over classical computing algorithms for certain types of problems. \n",
    "\n"
   ]
  },
  {
   "cell_type": "markdown",
   "metadata": {},
   "source": []
  },
  {
   "cell_type": "markdown",
   "metadata": {},
   "source": [
    "The oracle problem is a theoretical scenario in computer science and mathematics that involves a function f(x) which takes a bitstring x as input and produces a single binary digit (bit) as output which can be either 0 or 1. A bitstring is a sequence of bits, where each bit can be either a 0 or 1 for example a bitstring could be something like 10101. F(x) This function is a computational operation that processes the bitstring x and returns a single binary output. For example, if f(x) -1, it means that when given x the function outputs a 1. \n",
    "\n",
    "A constant function is a type of function where, regardless of the input it receives it always produces the same output. In the case of the oracle problem, a constant function f(x) would always return the same bit (0 or 1) for any possible input bitstring x. Essentially it does not matter what the input is the output remains unchanged. \n",
    "unchanged.\n",
    "A balanced function is a type of function where, for every possible input, it produces an equal number of 0s and 1s as the output. Regarding the oracle problem a balanced function f(x) would have the property that, if you were to generate all possible input bitstrings x, the function would return an equal number of 0s and 1s. \n"
   ]
  },
  {
   "cell_type": "markdown",
   "metadata": {},
   "source": [
    "In a classical computer, solving the oracle problem involves querying the function at least to determine if it is constant or balances. First Query: The classical computer queries the function with a randomly chosen input bitstring recording the output f(x1). Second Query: The classical computer selects a different random input bitstring and queries the function again to obtain f(x2). Then by examining the two outputs the computer then compares them to determine if they are equal or different. This approach demonstrates that at least two queries are needed to determine whether the function is constant or balanced. "
   ]
  },
  {
   "cell_type": "markdown",
   "metadata": {},
   "source": [
    "Qubits the fundamental units of information in quantum computing, can exist in a superposition of states, unlike classical bits. This means they can be in a combination of both 0 and 1 simultaneously. The superposition property allows qubits to represent and process a much larger amount of information simultaneously compared to classical bits. \n",
    "Superposition is a basic principle of quantum mechanics. It allows a quantum systems like qubit, to exist in multiple states at the same time. When a measurement is made, the superposition collapses, and the qubit takes on a definite state (either 0 or 1). The probability of each outcome is determined by the superposition coefficients. \n",
    "Entanglement is a unique and powerful quantum phenomenon. When two or more qubits are entangled, the state of one qubit immediately affects the state of the other qubit. Regardless of the distance between them. Entanglement is crucial for various quantum algorithms and applications, including quantum teleportation and quantum cryptography. \n",
    "Qubits can represent information in a much more complex and interconnected way than classical bits due to their ability to be in superposition states and to become entangled with other qubits. Quantum computing has the potential to be highly advantageous in speeding up the resolution of specific problem types compared to classical computers. \n"
   ]
  }
 ],
 "metadata": {
  "kernelspec": {
   "display_name": "base",
   "language": "python",
   "name": "python3"
  },
  "language_info": {
   "codemirror_mode": {
    "name": "ipython",
    "version": 3
   },
   "file_extension": ".py",
   "mimetype": "text/x-python",
   "name": "python",
   "nbconvert_exporter": "python",
   "pygments_lexer": "ipython3",
   "version": "3.11.4"
  },
  "orig_nbformat": 4
 },
 "nbformat": 4,
 "nbformat_minor": 2
}
