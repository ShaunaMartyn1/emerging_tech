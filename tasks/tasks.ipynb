{
 "cells": [
  {
   "cell_type": "code",
   "execution_count": 3,
   "metadata": {},
   "outputs": [],
   "source": [
    "## Tasks"
   ]
  },
  {
   "cell_type": "markdown",
   "metadata": {},
   "source": [
    "## Task 1"
   ]
  },
  {
   "cell_type": "markdown",
   "metadata": {},
   "source": [
    "### Collatz Conjecture\n",
    "\n",
    "The Collatz conjecture1 is a famous unsolved problem in mathematics. The problem is to prove that if you start with any positive\n",
    "integer x and repeatedly apply the function f(x) below, you always get stuck in the repeating sequence 1, 4, 2, 1, 4, 2, . . .\n",
    "        \n",
    "        x ÷ 2 if x is even\n",
    " f(x) =\n",
    "        3x + 1 otherwise"
   ]
  },
  {
   "cell_type": "code",
   "execution_count": 1,
   "metadata": {},
   "outputs": [],
   "source": [
    "\n",
    "def collatz(x):\n",
    "    while x != 1:\n",
    "        if x % 2 > 0:\n",
    "             x =((3 * x) + 1)\n",
    "             list_.append(x)\n",
    "        else:\n",
    "            x = (x / 2)\n",
    "            list_.append(x)\n",
    "    return list_"
   ]
  },
  {
   "cell_type": "code",
   "execution_count": 2,
   "metadata": {},
   "outputs": [
    {
     "name": "stdout",
     "output_type": "stream",
     "text": [
      "The Collatz conjecture is verified for the first 10000 positive integers.\n"
     ]
    }
   ],
   "source": [
    "def collatz_sequence(n):\n",
    "    sequence = [n]\n",
    "    while n != 1:\n",
    "        if n % 2 == 0:\n",
    "            n = n // 2\n",
    "        else:\n",
    "            n = 3 * n + 1\n",
    "        sequence.append(n)\n",
    "    return sequence\n",
    "\n",
    "def verify_collatz_conjecture(limit):\n",
    "    for i in range(1, limit + 1):\n",
    "        sequence = collatz_sequence(i)\n",
    "        if sequence[-1] != 1:\n",
    "            print(f\"The Collatz conjecture is not verified for {i}.\")\n",
    "            print(f\"Sequence: {sequence}\")\n",
    "            return\n",
    "    print(\"The Collatz conjecture is verified for the first\", limit, \"positive integers.\")\n",
    "\n",
    "verify_collatz_conjecture(10000)\n"
   ]
  },
  {
   "cell_type": "markdown",
   "metadata": {},
   "source": [
    "This code define 2 functions 'collatz_sequence' which generates the Collatz sequence for a given positive integer and 'verify_collatz_conjecture' which checks the conjecture for the first 'limit' positive integers. \n",
    "\n",
    "It iterates through the first 10000 positive integers and prints a message if the Collatz conjecture is not verified for any of them. If it is correct it will print a message stating that the conjecture is verified for all the tested numbers. "
   ]
  }
 ],
 "metadata": {
  "kernelspec": {
   "display_name": "base",
   "language": "python",
   "name": "python3"
  },
  "language_info": {
   "codemirror_mode": {
    "name": "ipython",
    "version": 3
   },
   "file_extension": ".py",
   "mimetype": "text/x-python",
   "name": "python",
   "nbconvert_exporter": "python",
   "pygments_lexer": "ipython3",
   "version": "3.11.4"
  },
  "orig_nbformat": 4
 },
 "nbformat": 4,
 "nbformat_minor": 2
}
