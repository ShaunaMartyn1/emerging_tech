{
 "cells": [
  {
   "cell_type": "code",
   "execution_count": 3,
   "metadata": {},
   "outputs": [],
   "source": [
    "## Tasks"
   ]
  },
  {
   "cell_type": "markdown",
   "metadata": {},
   "source": [
    "## Task 1"
   ]
  },
  {
   "cell_type": "markdown",
   "metadata": {},
   "source": [
    "### Collatz Conjecture\n",
    "\n",
    "The Collatz conjecture1 is a famous unsolved problem in mathematics. The problem is to prove that if you start with any positive\n",
    "integer x and repeatedly apply the function f(x) below, you always get stuck in the repeating sequence 1, 4, 2, 1, 4, 2, . . .\n",
    "        \n",
    "        x ÷ 2 if x is even\n",
    " f(x) =\n",
    "        3x + 1 otherwise"
   ]
  },
  {
   "cell_type": "code",
   "execution_count": 1,
   "metadata": {},
   "outputs": [],
   "source": [
    "\n",
    "def collatz(x):\n",
    "    while x != 1:\n",
    "        if x % 2 > 0:\n",
    "             x =((3 * x) + 1)\n",
    "             list_.append(x)\n",
    "        else:\n",
    "            x = (x / 2)\n",
    "            list_.append(x)\n",
    "    return list_"
   ]
  },
  {
   "cell_type": "code",
   "execution_count": 2,
   "metadata": {},
   "outputs": [
    {
     "name": "stdout",
     "output_type": "stream",
     "text": [
      "The Collatz conjecture is verified for the first 10000 positive integers.\n"
     ]
    }
   ],
   "source": [
    "def collatz_sequence(n):\n",
    "    sequence = [n]\n",
    "    while n != 1:\n",
    "        if n % 2 == 0:\n",
    "            n = n // 2\n",
    "        else:\n",
    "            n = 3 * n + 1\n",
    "        sequence.append(n)\n",
    "    return sequence\n",
    "\n",
    "def verify_collatz_conjecture(limit):\n",
    "    for i in range(1, limit + 1):\n",
    "        sequence = collatz_sequence(i)\n",
    "        if sequence[-1] != 1:\n",
    "            print(f\"The Collatz conjecture is not verified for {i}.\")\n",
    "            print(f\"Sequence: {sequence}\")\n",
    "            return\n",
    "    print(\"The Collatz conjecture is verified for the first\", limit, \"positive integers.\")\n",
    "\n",
    "verify_collatz_conjecture(10000)\n"
   ]
  },
  {
   "cell_type": "markdown",
   "metadata": {},
   "source": [
    "This code define 2 functions 'collatz_sequence' which generates the Collatz sequence for a given positive integer and 'verify_collatz_conjecture' which checks the conjecture for the first 'limit' positive integers. \n",
    "\n",
    "It iterates through the first 10000 positive integers and prints a message if the Collatz conjecture is not verified for any of them. If it is correct it will print a message stating that the conjecture is verified for all the tested numbers. "
   ]
  },
  {
   "cell_type": "markdown",
   "metadata": {},
   "source": [
    "## Task 2\n",
    "\n",
    "Square roots are difficult to calculate. In Python, you typically\n",
    "use the power operator (a double asterisk) or a package such\n",
    "as math. In this task,2 you should write a function sqrt(x) to approximate the square root of a floating point number x without\n",
    "using the power operator or a package.\n",
    "Rather, you should use the Newton’s method.3 Start with an initial guess for the square root called z0. You then repeatedly\n",
    "improve it using the following formula, until the difference between some previous guess zi and the next zi+1\n",
    "is less than some\n",
    "threshold, say 0.01"
   ]
  },
  {
   "cell_type": "code",
   "execution_count": 3,
   "metadata": {},
   "outputs": [
    {
     "name": "stdout",
     "output_type": "stream",
     "text": [
      "The approximate square root of 16 is: 4.0000001858445895\n"
     ]
    }
   ],
   "source": [
    "#Example 1\n",
    "\n",
    "def sqrt(x):\n",
    "    # Initial guess for the square root\n",
    "    z0 = x / 2\n",
    "    \n",
    "    # Threshold for stopping the iteration\n",
    "    threshold = 0.01\n",
    "    \n",
    "    while True:\n",
    "        # Calculate the next guess\n",
    "        z1 = z0 - (z0**2 - x) / (2 * z0)\n",
    "        \n",
    "        # Check if the difference between zi and zi+1 is less than the threshold\n",
    "        if abs(z1 - z0) < threshold:\n",
    "            return z1\n",
    "        \n",
    "        # Update the guess for the next iteration\n",
    "        z0 = z1\n",
    "\n",
    "# Example usage\n",
    "result = sqrt(16)\n",
    "print(f\"The approximate square root of 16 is: {result}\")\n"
   ]
  },
  {
   "cell_type": "markdown",
   "metadata": {},
   "source": [
    "The initial guess in this example is 'z0' which is half the input 'x'. Newton's method is used to improve the guess until the difference between 'zi' and 'zi+1' is less than the specified threshold. "
   ]
  },
  {
   "cell_type": "code",
   "execution_count": 6,
   "metadata": {},
   "outputs": [
    {
     "name": "stdout",
     "output_type": "stream",
     "text": [
      "The approximate square root of 16 is: 4.001219512195122\n"
     ]
    }
   ],
   "source": [
    "#Example 2:\n",
    "##Threshold of 0.1\n",
    "def sqrt(x):\n",
    "    # Initial guess\n",
    "    z0 = x / 2\n",
    "    \n",
    "    # Threshold for stopping the iteration\n",
    "    threshold = 0.1 ##0.01 original difference amount\n",
    "    \n",
    "    while True:\n",
    "        # Calculate the next guess\n",
    "        z1 = z0 - (z0**2 - x) / (2 * z0)\n",
    "        \n",
    "        # Check if the difference between zi and zi+1 is less than the threshold\n",
    "        if abs(z1 - z0) < threshold:\n",
    "            return z1\n",
    "        \n",
    "        # Update the guess for the next iteration\n",
    "        z0 = z1\n",
    "\n",
    "# Example usage\n",
    "result = sqrt(16)\n",
    "print(f\"The approximate square root of 16 is: {result}\")\n"
   ]
  },
  {
   "cell_type": "markdown",
   "metadata": {},
   "source": [
    "Different examples of calculating the square root of a number using Newtons Method"
   ]
  },
  {
   "cell_type": "code",
   "execution_count": 8,
   "metadata": {},
   "outputs": [
    {
     "name": "stdout",
     "output_type": "stream",
     "text": [
      "The approximate square root of 9 is: 3.000015360039322\n",
      "The approximate square root of 25 is: 5.000000000016778\n",
      "The approximate square root of 2 is: 1.4142156862745099\n"
     ]
    }
   ],
   "source": [
    "# Example 3: Square root of 9\n",
    "result = sqrt(9)\n",
    "print(f\"The approximate square root of 9 is: {result}\")\n",
    "\n",
    "# Example 5: Square root of 25\n",
    "result = sqrt(25)\n",
    "print(f\"The approximate square root of 25 is: {result}\")\n",
    "\n",
    "# Example 5: Square root of 2\n",
    "result = sqrt(2)\n",
    "print(f\"The approximate square root of 2 is: {result}\")\n",
    "\n",
    "    \n",
    "    \n",
    "\n"
   ]
  }
 ],
 "metadata": {
  "kernelspec": {
   "display_name": "base",
   "language": "python",
   "name": "python3"
  },
  "language_info": {
   "codemirror_mode": {
    "name": "ipython",
    "version": 3
   },
   "file_extension": ".py",
   "mimetype": "text/x-python",
   "name": "python",
   "nbconvert_exporter": "python",
   "pygments_lexer": "ipython3",
   "version": "3.11.4"
  },
  "orig_nbformat": 4
 },
 "nbformat": 4,
 "nbformat_minor": 2
}
