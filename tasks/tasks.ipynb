{
 "cells": [
  {
   "cell_type": "code",
   "execution_count": 67,
   "metadata": {},
   "outputs": [],
   "source": [
    "## Tasks"
   ]
  },
  {
   "cell_type": "markdown",
   "metadata": {},
   "source": [
    "## Task 1"
   ]
  },
  {
   "cell_type": "markdown",
   "metadata": {},
   "source": [
    "### Collatz Conjecture\n",
    "\n",
    "The Collatz conjecture1 is a famous unsolved problem in mathematics. The problem is to prove that if you start with any positive\n",
    "integer x and repeatedly apply the function f(x) below, you always get stuck in the repeating sequence 1, 4, 2, 1, 4, 2, . . .\n",
    "        \n",
    "        x ÷ 2 if x is even\n",
    " f(x) =\n",
    "        3x + 1 otherwise"
   ]
  },
  {
   "cell_type": "code",
   "execution_count": 68,
   "metadata": {},
   "outputs": [],
   "source": [
    "\n",
    "def collatz(x):\n",
    "    while x != 1:\n",
    "        if x % 2 > 0:\n",
    "             x =((3 * x) + 1)\n",
    "             list_.append(x)\n",
    "        else:\n",
    "            x = (x / 2)\n",
    "            list_.append(x)\n",
    "    return list_"
   ]
  },
  {
   "cell_type": "code",
   "execution_count": 69,
   "metadata": {},
   "outputs": [
    {
     "name": "stdout",
     "output_type": "stream",
     "text": [
      "The Collatz conjecture is verified for the first 10000 positive integers.\n"
     ]
    }
   ],
   "source": [
    "def collatz_sequence(n):\n",
    "    sequence = [n]\n",
    "    while n != 1:\n",
    "        if n % 2 == 0:\n",
    "            n = n // 2\n",
    "        else:\n",
    "            n = 3 * n + 1\n",
    "        sequence.append(n)\n",
    "    return sequence\n",
    "\n",
    "def verify_collatz_conjecture(limit):\n",
    "    for i in range(1, limit + 1):\n",
    "        sequence = collatz_sequence(i)\n",
    "        if sequence[-1] != 1:\n",
    "            print(f\"The Collatz conjecture is not verified for {i}.\")\n",
    "            print(f\"Sequence: {sequence}\")\n",
    "            return\n",
    "    print(\"The Collatz conjecture is verified for the first\", limit, \"positive integers.\")\n",
    "\n",
    "verify_collatz_conjecture(10000)\n"
   ]
  },
  {
   "cell_type": "markdown",
   "metadata": {},
   "source": [
    "This code define 2 functions 'collatz_sequence' which generates the Collatz sequence for a given positive integer and 'verify_collatz_conjecture' which checks the conjecture for the first 'limit' positive integers. \n",
    "\n",
    "It iterates through the first 10000 positive integers and prints a message if the Collatz conjecture is not verified for any of them. If it is correct it will print a message stating that the conjecture is verified for all the tested numbers. "
   ]
  },
  {
   "cell_type": "markdown",
   "metadata": {},
   "source": [
    "# Task 2\n",
    "\n",
    "Square roots are difficult to calculate. In Python, you typically\n",
    "use the power operator (a double asterisk) or a package such\n",
    "as math. In this task,2 you should write a function sqrt(x) to approximate the square root of a floating point number x without\n",
    "using the power operator or a package.\n",
    "Rather, you should use the Newton’s method.3 Start with an initial guess for the square root called z0. You then repeatedly\n",
    "improve it using the following formula, until the difference between some previous guess zi and the next zi+1\n",
    "is less than some\n",
    "threshold, say 0.01"
   ]
  },
  {
   "cell_type": "code",
   "execution_count": 70,
   "metadata": {},
   "outputs": [
    {
     "name": "stdout",
     "output_type": "stream",
     "text": [
      "The approximate square root of 16 is: 4.0000001858445895\n"
     ]
    }
   ],
   "source": [
    "#Example 1\n",
    "\n",
    "def sqrt(x):\n",
    "    # Initial guess for the square root\n",
    "    z0 = x / 2\n",
    "    \n",
    "    # Threshold for stopping the iteration\n",
    "    threshold = 0.01\n",
    "    \n",
    "    while True:\n",
    "        # Calculate the next guess\n",
    "        z1 = z0 - (z0**2 - x) / (2 * z0)\n",
    "        \n",
    "        # Check if the difference between zi and zi+1 is less than the threshold\n",
    "        if abs(z1 - z0) < threshold:\n",
    "            return z1\n",
    "        \n",
    "        # Update the guess for the next iteration\n",
    "        z0 = z1\n",
    "\n",
    "# Example usage\n",
    "result = sqrt(16)\n",
    "print(f\"The approximate square root of 16 is: {result}\")\n"
   ]
  },
  {
   "cell_type": "markdown",
   "metadata": {},
   "source": [
    "The initial guess in this example is 'z0' which is half the input 'x'. Newton's method is used to improve the guess until the difference between 'zi' and 'zi+1' is less than the specified threshold. "
   ]
  },
  {
   "cell_type": "code",
   "execution_count": 71,
   "metadata": {},
   "outputs": [
    {
     "name": "stdout",
     "output_type": "stream",
     "text": [
      "The approximate square root of 16 is: 4.001219512195122\n"
     ]
    }
   ],
   "source": [
    "#Example 2:\n",
    "##Threshold of 0.1\n",
    "def sqrt(x):\n",
    "    # Initial guess\n",
    "    z0 = x / 2\n",
    "    \n",
    "    # Threshold for stopping the iteration\n",
    "    threshold = 0.1 ##0.01 original difference amount\n",
    "    \n",
    "    while True:\n",
    "        # Calculate the next guess\n",
    "        z1 = z0 - (z0**2 - x) / (2 * z0)\n",
    "        \n",
    "        # Check if the difference between zi and zi+1 is less than the threshold\n",
    "        if abs(z1 - z0) < threshold:\n",
    "            return z1\n",
    "        \n",
    "        # Update the guess for the next iteration\n",
    "        z0 = z1\n",
    "\n",
    "# Example usage\n",
    "result = sqrt(16)\n",
    "print(f\"The approximate square root of 16 is: {result}\")\n"
   ]
  },
  {
   "cell_type": "markdown",
   "metadata": {},
   "source": [
    "Different examples of calculating the square root of a number using Newtons Method"
   ]
  },
  {
   "cell_type": "code",
   "execution_count": 72,
   "metadata": {},
   "outputs": [
    {
     "name": "stdout",
     "output_type": "stream",
     "text": [
      "The approximate square root of 9 is: 3.000015360039322\n",
      "The approximate square root of 25 is: 5.000012953048684\n",
      "The approximate square root of 2 is: 1.4166666666666667\n"
     ]
    }
   ],
   "source": [
    "# Example 3: Square root of 9\n",
    "result = sqrt(9)\n",
    "print(f\"The approximate square root of 9 is: {result}\")\n",
    "\n",
    "# Example 5: Square root of 25\n",
    "result = sqrt(25)\n",
    "print(f\"The approximate square root of 25 is: {result}\")\n",
    "\n",
    "# Example 5: Square root of 2\n",
    "result = sqrt(2)\n",
    "print(f\"The approximate square root of 2 is: {result}\")\n",
    "\n",
    "    \n",
    "    \n",
    "\n"
   ]
  },
  {
   "cell_type": "markdown",
   "metadata": {},
   "source": [
    "\n",
    "There are $2^2$ $2^2$ possible functions that take four bits as input and output a single bit, as there are 16 different possible inputs and each can map to either 0 or 1.\n",
    "\n",
    "To randomly select one such function, you can generate a random integer between 0 and −1 and convert it to binary. "
   ]
  },
  {
   "cell_type": "code",
   "execution_count": 73,
   "metadata": {},
   "outputs": [
    {
     "name": "stdout",
     "output_type": "stream",
     "text": [
      "[0, 0, 1, 0, 0, 0, 0, 1, 1, 0, 1, 0, 0, 0, 0, 1]\n"
     ]
    }
   ],
   "source": [
    "import random\n",
    "\n",
    "def random_function():\n",
    "    random_int = random.randint(0, 2**16 - 1)\n",
    "    binary_representation = bin(random_int)[2:].zfill(16)\n",
    "    return [int(bit) for bit in binary_representation]\n",
    "\n",
    "# Example\n",
    "random_function_result = random_function()\n",
    "print(random_function_result)\n"
   ]
  },
  {
   "cell_type": "markdown",
   "metadata": {},
   "source": [
    "_______________________________________________________________________________________\n",
    "# Task 3\n",
    "\n",
    "Consider all possible functions taking four bits as input and\n",
    "outputting a single bit. How many such possible functions4 are there?  Write Python code to select one such function at random out of all the possibilities. \n",
    "Suppose the only way you can figure out what the function is, is by calling it with different inputs and checking\n",
    "the outputs. How many times do you need to call the function to be certain which function it is?"
   ]
  },
  {
   "cell_type": "code",
   "execution_count": 74,
   "metadata": {},
   "outputs": [
    {
     "name": "stdout",
     "output_type": "stream",
     "text": [
      "Input: [0, 0, 0, 0], Output: 1\n",
      "Input: [0, 0, 0, 1], Output: 0\n",
      "Input: [0, 0, 1, 0], Output: 1\n",
      "Input: [0, 0, 1, 1], Output: 0\n",
      "Input: [0, 1, 0, 0], Output: 0\n",
      "Input: [0, 1, 0, 1], Output: 1\n",
      "Input: [0, 1, 1, 0], Output: 1\n",
      "Input: [0, 1, 1, 1], Output: 1\n",
      "Input: [1, 0, 0, 0], Output: 0\n",
      "Input: [1, 0, 0, 1], Output: 1\n",
      "Input: [1, 0, 1, 0], Output: 0\n",
      "Input: [1, 0, 1, 1], Output: 0\n",
      "Input: [1, 1, 0, 0], Output: 1\n",
      "Input: [1, 1, 0, 1], Output: 1\n",
      "Input: [1, 1, 1, 0], Output: 0\n",
      "Input: [1, 1, 1, 1], Output: 1\n"
     ]
    }
   ],
   "source": [
    "#Example 1\n",
    "\n",
    "import random\n",
    "\n",
    "def generate_random_function():\n",
    "    # Generate a random 16-bit integer to represent a function\n",
    "    random_function = random.randint(0, 2**16 - 1)\n",
    "    \n",
    "    # Define a function using the generated 16-bit integer\n",
    "    def selected_function(input_bits):\n",
    "        # Use the bits of the integer to determine the output\n",
    "        output_bit = (random_function >> int(''.join(map(str, input_bits)), 2)) & 1\n",
    "        return output_bit\n",
    "    \n",
    "    return selected_function\n",
    "\n",
    "def determine_function(selected_function):\n",
    "    # Try all possible inputs to determine the function\n",
    "    for i in range(2**4):\n",
    "        input_bits = [int(bit) for bit in format(i, '04b')]\n",
    "        output_bit = selected_function(input_bits)\n",
    "        print(f\"Input: {input_bits}, Output: {output_bit}\")\n",
    "\n",
    "# Generate a random function\n",
    "random_function = generate_random_function()\n",
    "\n",
    "# Determine the function by calling it with all possible inputs\n",
    "determine_function(random_function)\n"
   ]
  },
  {
   "cell_type": "markdown",
   "metadata": {},
   "source": [
    "This code generates a random 16-bit integer to represent a function and then defines a function using the bits of the generated integer. The determine_function function calls the selected function with all possible inputs to reveal the function's behaviour. \n",
    "The number of times you need to call the function to be certain of its behaviour is \n",
    "$2^2$ $2^2$(the total number of possible functions). "
   ]
  },
  {
   "cell_type": "code",
   "execution_count": 75,
   "metadata": {},
   "outputs": [
    {
     "name": "stdout",
     "output_type": "stream",
     "text": [
      "Determined Function:\n",
      "Input: (0, 0, 0, 0), Output: 0\n",
      "Input: (0, 0, 0, 1), Output: 1\n",
      "Input: (0, 0, 1, 0), Output: 0\n",
      "Input: (0, 0, 1, 1), Output: 1\n",
      "Input: (0, 1, 0, 0), Output: 1\n",
      "Input: (0, 1, 0, 1), Output: 1\n",
      "Input: (0, 1, 1, 0), Output: 0\n",
      "Input: (0, 1, 1, 1), Output: 1\n",
      "Input: (1, 0, 0, 0), Output: 1\n",
      "Input: (1, 0, 0, 1), Output: 0\n",
      "Input: (1, 0, 1, 0), Output: 1\n",
      "Input: (1, 0, 1, 1), Output: 1\n",
      "Input: (1, 1, 0, 0), Output: 1\n",
      "Input: (1, 1, 0, 1), Output: 0\n",
      "Input: (1, 1, 1, 0), Output: 1\n",
      "Input: (1, 1, 1, 1), Output: 0\n"
     ]
    }
   ],
   "source": [
    "#Example 2\n",
    "import random\n",
    "\n",
    "def generate_random_function():\n",
    "    # Generate a random 16-bit integer to represent a function\n",
    "    random_function = random.randint(0, 2**16 - 1)\n",
    "    \n",
    "    # Define a function using the generated 16-bit integer\n",
    "    def selected_function(input_bits):\n",
    "        # Use the bits of the integer to determine the output\n",
    "        output_bit = (random_function >> int(''.join(map(str, input_bits)), 2)) & 1\n",
    "        return output_bit\n",
    "    \n",
    "    return selected_function\n",
    "\n",
    "def determine_function(selected_function):\n",
    "    # Dictionary to store observed outputs for each input\n",
    "    observed_outputs = {}\n",
    "\n",
    "    # Iterate through all possible inputs\n",
    "    for i in range(2**4):\n",
    "        input_bits = [int(bit) for bit in format(i, '04b')]\n",
    "        \n",
    "        # Call the function and record the output\n",
    "        output_bit = selected_function(input_bits)\n",
    "        observed_outputs[tuple(input_bits)] = output_bit\n",
    "\n",
    "    # Print the determined function\n",
    "    print(\"Determined Function:\")\n",
    "    for input_bits, output_bit in observed_outputs.items():\n",
    "        print(f\"Input: {input_bits}, Output: {output_bit}\")\n",
    "\n",
    "# Generate a random function\n",
    "random_function = generate_random_function()\n",
    "\n",
    "# Determine the function by calling it with all possible inputs\n",
    "determine_function(random_function)\n"
   ]
  },
  {
   "cell_type": "markdown",
   "metadata": {},
   "source": [
    "Call the randomly selected function with all possible inputs and record the outputs in a dictionary. The dictionary keys are tuples representing input bits, and the values are the corresponding output bits. After iterating through all inputs,  the determined function based on the observed outputs are printed out. "
   ]
  },
  {
   "cell_type": "code",
   "execution_count": 76,
   "metadata": {},
   "outputs": [
    {
     "name": "stdout",
     "output_type": "stream",
     "text": [
      "Determined Function:\n",
      "Input Group: (0, 0), Outputs: {(0, 0): 1, (0, 1): 0, (1, 0): 0, (1, 1): 1}\n",
      "Input Group: (0, 1), Outputs: {(0, 0): 0, (0, 1): 0, (1, 0): 1, (1, 1): 1}\n",
      "Input Group: (1, 0), Outputs: {(0, 0): 1, (0, 1): 1, (1, 0): 0, (1, 1): 0}\n",
      "Input Group: (1, 1), Outputs: {(0, 0): 0, (0, 1): 0, (1, 0): 0, (1, 1): 0}\n"
     ]
    }
   ],
   "source": [
    "#Example 3\n",
    "\n",
    "import random\n",
    "\n",
    "def generate_random_function():\n",
    "    # Generate a random 16-bit integer to represent a function\n",
    "    random_function = random.randint(0, 2**16 - 1)\n",
    "    \n",
    "    # Define a function using the generated 16-bit integer\n",
    "    def selected_function(input_bits):\n",
    "        # Use the bits of the integer to determine the output\n",
    "        output_bit = (random_function >> int(''.join(map(str, input_bits)), 2)) & 1\n",
    "        return output_bit\n",
    "    \n",
    "    return selected_function\n",
    "\n",
    "def determine_function(selected_function):\n",
    "    # Dictionary to store observed outputs for each group of inputs\n",
    "    observed_groups = {}\n",
    "\n",
    "    # Iterate through all possible inputs\n",
    "    for i in range(2**4):\n",
    "        input_bits = [int(bit) for bit in format(i, '04b')]\n",
    "        \n",
    "        # Group inputs based on the first two bits\n",
    "        input_group = tuple(input_bits[:2])\n",
    "\n",
    "        # Call the function and record the output\n",
    "        output_bit = selected_function(input_bits)\n",
    "\n",
    "        # Record the output in the corresponding input group\n",
    "        if input_group not in observed_groups:\n",
    "            observed_groups[input_group] = {}\n",
    "        observed_groups[input_group][tuple(input_bits[2:])] = output_bit\n",
    "\n",
    "    # Print the determined function\n",
    "    print(\"Determined Function:\")\n",
    "    for group, outputs in observed_groups.items():\n",
    "        print(f\"Input Group: {group}, Outputs: {outputs}\")\n",
    "\n",
    "# Generate a random function\n",
    "random_function = generate_random_function()\n",
    "\n",
    "# Determine the function by calling it with all possible inputs\n",
    "determine_function(random_function)\n"
   ]
  },
  {
   "cell_type": "markdown",
   "metadata": {},
   "source": [
    "Divide the input space into groups based on the first two bits. This grouping reduces the number of observations needed to determine the function. The determined function is printed by input group, making it easier to analyse and understand the function's behaviour. "
   ]
  },
  {
   "cell_type": "markdown",
   "metadata": {},
   "source": [
    "_______________________________________________________________________________________________\n",
    "# Task 4"
   ]
  },
  {
   "cell_type": "code",
   "execution_count": 77,
   "metadata": {},
   "outputs": [
    {
     "name": "stdout",
     "output_type": "stream",
     "text": [
      "[30.0, 24.0, 18.0]\n",
      "[84.0, 69.0, 54.0]\n",
      "[138.0, 114.0, 90.0]\n"
     ]
    }
   ],
   "source": [
    "#Example 1\n",
    "\n",
    "def matrix_multiply(matrix1, matrix2):\n",
    "    # Check if the matrices can be multiplied\n",
    "    if len(matrix1[0]) != len(matrix2):\n",
    "        raise ValueError(\"Number of columns in the first matrix must be equal to the number of rows in the second matrix.\")\n",
    "\n",
    "    # Initialize the result matrix with zeros\n",
    "    result = [[0.0 for _ in range(len(matrix2[0]))] for _ in range(len(matrix1))]\n",
    "\n",
    "    # Perform matrix multiplication\n",
    "    for i in range(len(matrix1)):\n",
    "        for j in range(len(matrix2[0])):\n",
    "            for k in range(len(matrix2)):\n",
    "                result[i][j] += matrix1[i][k] * matrix2[k][j]\n",
    "\n",
    "    return result\n",
    "\n",
    "# Example matrices\n",
    "matrix_a = [\n",
    "    [1.0, 2.0, 3.0],\n",
    "    [4.0, 5.0, 6.0],\n",
    "    [7.0, 8.0, 9.0]\n",
    "]\n",
    "\n",
    "matrix_b = [\n",
    "    [9.0, 8.0, 7.0],\n",
    "    [6.0, 5.0, 4.0],\n",
    "    [3.0, 2.0, 1.0]\n",
    "]\n",
    "\n",
    "# Perform matrix multiplication\n",
    "result_matrix = matrix_multiply(matrix_a, matrix_b)\n",
    "\n",
    "# Display the result\n",
    "for row in result_matrix:\n",
    "    print(row)\n"
   ]
  },
  {
   "cell_type": "markdown",
   "metadata": {},
   "source": [
    "The function matrix_multiply takes two matrices (matrix1 and matrix2) as input and returns their product. It checks if the matrices can be multiplied by comparing the number of columns in the first matrix with the number of rows in the second matrix. The result is then calculated using nested loops for matrix multiplication. "
   ]
  }
 ],
 "metadata": {
  "kernelspec": {
   "display_name": "base",
   "language": "python",
   "name": "python3"
  },
  "language_info": {
   "codemirror_mode": {
    "name": "ipython",
    "version": 3
   },
   "file_extension": ".py",
   "mimetype": "text/x-python",
   "name": "python",
   "nbconvert_exporter": "python",
   "pygments_lexer": "ipython3",
   "version": "3.11.4"
  },
  "orig_nbformat": 4
 },
 "nbformat": 4,
 "nbformat_minor": 2
}
