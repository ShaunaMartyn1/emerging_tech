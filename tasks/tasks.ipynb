{
 "cells": [
  {
   "cell_type": "code",
   "execution_count": 525,
   "metadata": {},
   "outputs": [],
   "source": [
    "## Tasks"
   ]
  },
  {
   "cell_type": "markdown",
   "metadata": {},
   "source": [
    "## Task 1"
   ]
  },
  {
   "cell_type": "markdown",
   "metadata": {},
   "source": [
    "### Collatz Conjecture\n",
    "\n",
    "The Collatz conjecture1 is a famous unsolved problem in mathematics. The problem is to prove that if you start with any positive\n",
    "integer x and repeatedly apply the function f(x) below, you always get stuck in the repeating sequence 1, 4, 2, 1, 4, 2, . . .\n",
    "        \n",
    "        x ÷ 2 if x is even\n",
    " `f(x)` =\n",
    "        3x + 1 otherwise"
   ]
  },
  {
   "cell_type": "markdown",
   "metadata": {},
   "source": [
    "1. **Start with a Positive Integer:**\n",
    "Begin with any positive integer x. This will be the starting point for generating the sequence.\n",
    "2. **Apply the Collatz Function f(x):**\n",
    "The Collatz function f(x) is defined as follows:\n",
    "If x is even, f(x) is x ÷ 2.\n",
    "If x is odd, f(x) is 3x + 1.\n",
    "3. **Generate the Sequence:**\n",
    "Apply the function f(x) to your starting number.\n",
    "The result of this function becomes your new x.\n",
    "Repeat this process, applying f(x) to each new number.\n",
    "4. **Observe the Pattern:**\n",
    "As you continue to apply f(x), observe the numbers that are generated.\n",
    "The Collatz conjecture states that no matter what positive integer you start with, you will eventually reach the cycle 1, 4, 2.\n",
    "Once you reach 1, the next number will be 4 (since 3 * 1 + 1 = 4), and then 2 (since 4 ÷ 2 = 2), and then back to 1 (since 2 ÷ 2 = 1).\n",
    "5. **The Unsolved Part:**\n",
    "The conjecture has been tested for very large numbers and always seems to fall into this cycle.\n",
    "However, a formal proof that this will always be the case for every positive integer has not yet been found, making it one of the great unsolved problems in mathematics."
   ]
  },
  {
   "cell_type": "code",
   "execution_count": 526,
   "metadata": {},
   "outputs": [],
   "source": [
    "\n",
    "def collatz(x):\n",
    "    while x != 1:\n",
    "        if x % 2 > 0:\n",
    "             x =((3 * x) + 1)\n",
    "             list_.append(x)\n",
    "        else:\n",
    "            x = (x / 2)\n",
    "            list_.append(x)\n",
    "    return list_"
   ]
  },
  {
   "cell_type": "code",
   "execution_count": 527,
   "metadata": {},
   "outputs": [
    {
     "name": "stdout",
     "output_type": "stream",
     "text": [
      "The Collatz conjecture is verified for the first 10000 positive integers.\n"
     ]
    }
   ],
   "source": [
    "def collatz_sequence(n):\n",
    "    sequence = [n]\n",
    "    while n != 1:\n",
    "        if n % 2 == 0:\n",
    "            n = n // 2\n",
    "        else:\n",
    "            n = 3 * n + 1\n",
    "        sequence.append(n)\n",
    "    return sequence\n",
    "\n",
    "def verify_collatz_conjecture(limit):\n",
    "    for i in range(1, limit + 1):\n",
    "        sequence = collatz_sequence(i)\n",
    "        if sequence[-1] != 1:\n",
    "            print(f\"The Collatz conjecture is not verified for {i}.\")\n",
    "            print(f\"Sequence: {sequence}\")\n",
    "            return\n",
    "    print(\"The Collatz conjecture is verified for the first\", limit, \"positive integers.\")\n",
    "\n",
    "verify_collatz_conjecture(10000)\n"
   ]
  },
  {
   "cell_type": "markdown",
   "metadata": {},
   "source": [
    "This code define 2 functions 'collatz_sequence' which generates the Collatz sequence for a given positive integer and 'verify_collatz_conjecture' which checks the conjecture for the first 'limit' positive integers. \n",
    "\n",
    "It iterates through the first 10000 positive integers and prints a message if the Collatz conjecture is not verified for any of them. If it is correct it will print a message stating that the conjecture is verified for all the tested numbers. "
   ]
  },
  {
   "cell_type": "markdown",
   "metadata": {},
   "source": [
    "# Task 2\n",
    "\n",
    "Square roots are difficult to calculate. In Python, you typically\n",
    "use the power operator (a double asterisk) or a package such\n",
    "as math. In this task,2 you should write a function sqrt(x) to approximate the square root of a floating point number x without\n",
    "using the power operator or a package.\n",
    "Rather, you should use the Newton’s method.3 Start with an initial guess for the square root called z0. You then repeatedly\n",
    "improve it using the following formula, until the difference between some previous guess zi and the next zi+1\n",
    "is less than some\n",
    "threshold, say 0.01"
   ]
  },
  {
   "cell_type": "markdown",
   "metadata": {},
   "source": [
    "1. **Initial Guess** \n",
    "The function sqrt(x) takes a number x as input.\n",
    "It starts with an initial guess z0 for the square root, which is set to x / 2. This is a common heuristic for starting the approximation.\n",
    "2. **Setting the Threshold:**\n",
    "A threshold value is defined, which determines how close the approximation needs to be before the function stops iterating. In this case, the threshold is set to 0.01.\n",
    "3. **Iterative Improvement (Newton's Method):**\n",
    "The function enters a while True loop, which will continue until the approximation is within the desired accuracy.\n",
    "Inside the loop, the function calculates a new guess z1 using the formula:\n",
    " $$\n",
    "    z_1 = z_0 - \\frac{{z_0^2 - x}}{{2 \\times z_0}}\n",
    "$$\n",
    "This formula is derived from Newton's method.\n",
    " $$ z_0^2 - x $$\n",
    "\n",
    " This term represents the difference between the square of the current guess and the original number x. The entire expression is divided by 2 * z0,\n",
    " which is the derivative of `z0^2` with respect to `z0`.\n",
    "\n",
    "4. **Check for Convergence:**\n",
    "The function checks if the absolute difference between the new guess z1 and the previous guess z0 is less than the threshold. This step determines whether the approximation is sufficiently close to the actual square root.\n",
    "If the difference abs(z1 - z0) is less than the threshold, the function concludes that it has found a close enough approximation and returns z1.\n",
    "5. **Update the Guess:**\n",
    "If the convergence criterion is not met, the function updates z0 to the new guess z1.\n",
    "The loop then repeats with this updated guess, continually refining the approximation.\n",
    "6. **Example Usage:**\n",
    "The function is called with an example input, such as $$\\sqrt{16}$$\n",
    "It iteratively improves the guess for the square root of 16.\n",
    "Once the approximation is within the threshold of the true square root, it returns the result and prints it."
   ]
  },
  {
   "cell_type": "code",
   "execution_count": 528,
   "metadata": {},
   "outputs": [
    {
     "name": "stdout",
     "output_type": "stream",
     "text": [
      "The approximate square root of 16 is: 4.0000001858445895\n"
     ]
    }
   ],
   "source": [
    "#Example 1\n",
    "\n",
    "def sqrt(x):\n",
    "    # Initial guess for the square root\n",
    "    z0 = x / 2\n",
    "    \n",
    "    # Threshold for stopping the iteration\n",
    "    threshold = 0.01\n",
    "    \n",
    "    while True:\n",
    "        # Calculate the next guess\n",
    "        z1 = z0 - (z0**2 - x) / (2 * z0)\n",
    "        \n",
    "        # Check if the difference between zi and zi+1 is less than the threshold\n",
    "        if abs(z1 - z0) < threshold:\n",
    "            return z1\n",
    "        \n",
    "        # Update the guess for the next iteration\n",
    "        z0 = z1\n",
    "\n",
    "# Example usage\n",
    "result = sqrt(16)\n",
    "print(f\"The approximate square root of 16 is: {result}\")\n"
   ]
  },
  {
   "cell_type": "markdown",
   "metadata": {},
   "source": [
    "The initial guess in this example is 'z0' which is half the input 'x'. Newton's method is used to improve the guess until the difference between 'zi' and 'zi+1' is less than the specified threshold. "
   ]
  },
  {
   "cell_type": "code",
   "execution_count": 529,
   "metadata": {},
   "outputs": [
    {
     "name": "stdout",
     "output_type": "stream",
     "text": [
      "The approximate square root of 16 is: 4.001219512195122\n"
     ]
    }
   ],
   "source": [
    "#Example 2:\n",
    "##Threshold of 0.1\n",
    "def sqrt(x):\n",
    "    # Initial guess\n",
    "    z0 = x / 2\n",
    "    \n",
    "    # Threshold for stopping the iteration\n",
    "    threshold = 0.1 ##0.01 original difference amount\n",
    "    \n",
    "    while True:\n",
    "        # Calculate the next guess\n",
    "        z1 = z0 - (z0**2 - x) / (2 * z0)\n",
    "        \n",
    "        # Check if the difference between zi and zi+1 is less than the threshold\n",
    "        if abs(z1 - z0) < threshold:\n",
    "            return z1\n",
    "        \n",
    "        # Update the guess for the next iteration\n",
    "        z0 = z1\n",
    "\n",
    "# Example usage\n",
    "result = sqrt(16)\n",
    "print(f\"The approximate square root of 16 is: {result}\")\n"
   ]
  },
  {
   "cell_type": "markdown",
   "metadata": {},
   "source": [
    "Different examples of calculating the square root of a number using Newtons Method"
   ]
  },
  {
   "cell_type": "code",
   "execution_count": 530,
   "metadata": {},
   "outputs": [
    {
     "name": "stdout",
     "output_type": "stream",
     "text": [
      "The approximate square root of 9 is: 3.000015360039322\n",
      "The approximate square root of 25 is: 5.000012953048684\n",
      "The approximate square root of 2 is: 1.4166666666666667\n"
     ]
    }
   ],
   "source": [
    "# Example 3: Square root of 9\n",
    "result = sqrt(9)\n",
    "print(f\"The approximate square root of 9 is: {result}\")\n",
    "\n",
    "# Example 5: Square root of 25\n",
    "result = sqrt(25)\n",
    "print(f\"The approximate square root of 25 is: {result}\")\n",
    "\n",
    "# Example 5: Square root of 2\n",
    "result = sqrt(2)\n",
    "print(f\"The approximate square root of 2 is: {result}\")\n",
    "\n",
    "    \n",
    "    \n",
    "\n"
   ]
  },
  {
   "cell_type": "markdown",
   "metadata": {},
   "source": [
    "\n",
    "There are $2^2$ $2^2$ possible functions that take four bits as input and output a single bit, as there are 16 different possible inputs and each can map to either 0 or 1.\n",
    "\n",
    "To randomly select one such function, you can generate a random integer between 0 and −1 and convert it to binary. "
   ]
  },
  {
   "cell_type": "code",
   "execution_count": 531,
   "metadata": {},
   "outputs": [
    {
     "name": "stdout",
     "output_type": "stream",
     "text": [
      "[0, 1, 0, 1, 0, 0, 1, 0, 1, 1, 1, 1, 0, 1, 0, 1]\n"
     ]
    }
   ],
   "source": [
    "import random\n",
    "\n",
    "def random_function():\n",
    "    random_int = random.randint(0, 2**16 - 1)\n",
    "    binary_representation = bin(random_int)[2:].zfill(16)\n",
    "    return [int(bit) for bit in binary_representation]\n",
    "\n",
    "# Example\n",
    "random_function_result = random_function()\n",
    "print(random_function_result)\n"
   ]
  },
  {
   "cell_type": "markdown",
   "metadata": {},
   "source": [
    "_______________________________________________________________________________________\n",
    "# Task 3\n",
    "\n",
    "Consider all possible functions taking four bits as input and\n",
    "outputting a single bit. How many such possible functions4 are there?  Write Python code to select one such function at random out of all the possibilities. \n",
    "Suppose the only way you can figure out what the function is, is by calling it with different inputs and checking\n",
    "the outputs. How many times do you need to call the function to be certain which function it is?"
   ]
  },
  {
   "cell_type": "markdown",
   "metadata": {},
   "source": [
    "#### Step-by-Step to Determine the Function:\n",
    "1. **Initialize All Possible Inputs:** Create a list of all 16 possible 4-bit inputs.\n",
    "\n",
    "2. **Call the Function with Each Input:** Iterate over each of these inputs and call the function.\n",
    "\n",
    "3. **Record the Outputs:** Maintain a list or dictionary where you store the output corresponding to each input.\n",
    "\n",
    "4. **Reconstruct the Function:** Once you have the output for each input, you have effectively determined the function. \n",
    "The list of outputs in order will represent the function's behavior."
   ]
  },
  {
   "cell_type": "code",
   "execution_count": 532,
   "metadata": {},
   "outputs": [
    {
     "name": "stdout",
     "output_type": "stream",
     "text": [
      "Input: [0, 0, 0, 0], Output: 1\n",
      "Input: [0, 0, 0, 1], Output: 0\n",
      "Input: [0, 0, 1, 0], Output: 0\n",
      "Input: [0, 0, 1, 1], Output: 0\n",
      "Input: [0, 1, 0, 0], Output: 0\n",
      "Input: [0, 1, 0, 1], Output: 0\n",
      "Input: [0, 1, 1, 0], Output: 0\n",
      "Input: [0, 1, 1, 1], Output: 0\n",
      "Input: [1, 0, 0, 0], Output: 0\n",
      "Input: [1, 0, 0, 1], Output: 0\n",
      "Input: [1, 0, 1, 0], Output: 0\n",
      "Input: [1, 0, 1, 1], Output: 1\n",
      "Input: [1, 1, 0, 0], Output: 0\n",
      "Input: [1, 1, 0, 1], Output: 0\n",
      "Input: [1, 1, 1, 0], Output: 0\n",
      "Input: [1, 1, 1, 1], Output: 1\n"
     ]
    }
   ],
   "source": [
    "#Example 1\n",
    "\n",
    "import random\n",
    "\n",
    "def generate_random_function():\n",
    "    # Generate a random 16-bit integer to represent a function\n",
    "    random_function = random.randint(0, 2**16 - 1)\n",
    "    \n",
    "    # Define a function using the generated 16-bit integer\n",
    "    def selected_function(input_bits):\n",
    "        # Use the bits of the integer to determine the output\n",
    "        output_bit = (random_function >> int(''.join(map(str, input_bits)), 2)) & 1\n",
    "        return output_bit\n",
    "    \n",
    "    return selected_function\n",
    "\n",
    "def determine_function(selected_function):\n",
    "    # Try all possible inputs to determine the function\n",
    "    for i in range(2**4):\n",
    "        input_bits = [int(bit) for bit in format(i, '04b')]\n",
    "        output_bit = selected_function(input_bits)\n",
    "        print(f\"Input: {input_bits}, Output: {output_bit}\")\n",
    "\n",
    "# Generate a random function\n",
    "random_function = generate_random_function()\n",
    "\n",
    "# Determine the function by calling it with all possible inputs\n",
    "determine_function(random_function)\n"
   ]
  },
  {
   "cell_type": "markdown",
   "metadata": {},
   "source": [
    "This code generates a random 16-bit integer to represent a function and then defines a function using the bits of the generated integer. The determine_function function calls the selected function with all possible inputs to reveal the function's behaviour. \n",
    "The number of times you need to call the function to be certain of its behaviour is \n",
    "$2^2$ $2^2$(the total number of possible functions). "
   ]
  },
  {
   "cell_type": "code",
   "execution_count": 533,
   "metadata": {},
   "outputs": [
    {
     "name": "stdout",
     "output_type": "stream",
     "text": [
      "Determined Function:\n",
      "Input: (0, 0, 0, 0), Output: 1\n",
      "Input: (0, 0, 0, 1), Output: 0\n",
      "Input: (0, 0, 1, 0), Output: 1\n",
      "Input: (0, 0, 1, 1), Output: 1\n",
      "Input: (0, 1, 0, 0), Output: 1\n",
      "Input: (0, 1, 0, 1), Output: 1\n",
      "Input: (0, 1, 1, 0), Output: 1\n",
      "Input: (0, 1, 1, 1), Output: 1\n",
      "Input: (1, 0, 0, 0), Output: 0\n",
      "Input: (1, 0, 0, 1), Output: 1\n",
      "Input: (1, 0, 1, 0), Output: 1\n",
      "Input: (1, 0, 1, 1), Output: 0\n",
      "Input: (1, 1, 0, 0), Output: 1\n",
      "Input: (1, 1, 0, 1), Output: 1\n",
      "Input: (1, 1, 1, 0), Output: 1\n",
      "Input: (1, 1, 1, 1), Output: 1\n"
     ]
    }
   ],
   "source": [
    "#Example 2\n",
    "import random\n",
    "\n",
    "def generate_random_function():\n",
    "    # Generate a random 16-bit integer to represent a function\n",
    "    random_function = random.randint(0, 2**16 - 1)\n",
    "    \n",
    "    # Define a function using the generated 16-bit integer\n",
    "    def selected_function(input_bits):\n",
    "        # Use the bits of the integer to determine the output\n",
    "        output_bit = (random_function >> int(''.join(map(str, input_bits)), 2)) & 1\n",
    "        return output_bit\n",
    "    \n",
    "    return selected_function\n",
    "\n",
    "def determine_function(selected_function):\n",
    "    # Dictionary to store observed outputs for each input\n",
    "    observed_outputs = {}\n",
    "\n",
    "    # Iterate through all possible inputs\n",
    "    for i in range(2**4):\n",
    "        input_bits = [int(bit) for bit in format(i, '04b')]\n",
    "        \n",
    "        # Call the function and record the output\n",
    "        output_bit = selected_function(input_bits)\n",
    "        observed_outputs[tuple(input_bits)] = output_bit\n",
    "\n",
    "    # Print the determined function\n",
    "    print(\"Determined Function:\")\n",
    "    for input_bits, output_bit in observed_outputs.items():\n",
    "        print(f\"Input: {input_bits}, Output: {output_bit}\")\n",
    "\n",
    "# Generate a random function\n",
    "random_function = generate_random_function()\n",
    "\n",
    "# Determine the function by calling it with all possible inputs\n",
    "determine_function(random_function)\n"
   ]
  },
  {
   "cell_type": "markdown",
   "metadata": {},
   "source": [
    "Call the randomly selected function with all possible inputs and record the outputs in a dictionary. The dictionary keys are tuples representing input bits, and the values are the corresponding output bits. After iterating through all inputs,  the determined function based on the observed outputs are printed out. "
   ]
  },
  {
   "cell_type": "code",
   "execution_count": 534,
   "metadata": {},
   "outputs": [
    {
     "name": "stdout",
     "output_type": "stream",
     "text": [
      "Determined Function:\n",
      "Input Group: (0, 0), Outputs: {(0, 0): 0, (0, 1): 1, (1, 0): 0, (1, 1): 1}\n",
      "Input Group: (0, 1), Outputs: {(0, 0): 0, (0, 1): 1, (1, 0): 0, (1, 1): 1}\n",
      "Input Group: (1, 0), Outputs: {(0, 0): 0, (0, 1): 1, (1, 0): 1, (1, 1): 0}\n",
      "Input Group: (1, 1), Outputs: {(0, 0): 1, (0, 1): 1, (1, 0): 0, (1, 1): 0}\n"
     ]
    }
   ],
   "source": [
    "#Example 3\n",
    "\n",
    "import random\n",
    "\n",
    "def generate_random_function():\n",
    "    # Generate a random 16-bit integer to represent a function\n",
    "    random_function = random.randint(0, 2**16 - 1)\n",
    "    \n",
    "    # Define a function using the generated 16-bit integer\n",
    "    def selected_function(input_bits):\n",
    "        # Use the bits of the integer to determine the output\n",
    "        output_bit = (random_function >> int(''.join(map(str, input_bits)), 2)) & 1\n",
    "        return output_bit\n",
    "    \n",
    "    return selected_function\n",
    "\n",
    "def determine_function(selected_function):\n",
    "    # Dictionary to store observed outputs for each group of inputs\n",
    "    observed_groups = {}\n",
    "\n",
    "    # Iterate through all possible inputs\n",
    "    for i in range(2**4):\n",
    "        input_bits = [int(bit) for bit in format(i, '04b')]\n",
    "        \n",
    "        # Group inputs based on the first two bits\n",
    "        input_group = tuple(input_bits[:2])\n",
    "\n",
    "        # Call the function and record the output\n",
    "        output_bit = selected_function(input_bits)\n",
    "\n",
    "        # Record the output in the corresponding input group\n",
    "        if input_group not in observed_groups:\n",
    "            observed_groups[input_group] = {}\n",
    "        observed_groups[input_group][tuple(input_bits[2:])] = output_bit\n",
    "\n",
    "    # Print the determined function\n",
    "    print(\"Determined Function:\")\n",
    "    for group, outputs in observed_groups.items():\n",
    "        print(f\"Input Group: {group}, Outputs: {outputs}\")\n",
    "\n",
    "# Generate a random function\n",
    "random_function = generate_random_function()\n",
    "\n",
    "# Determine the function by calling it with all possible inputs\n",
    "determine_function(random_function)\n"
   ]
  },
  {
   "cell_type": "markdown",
   "metadata": {},
   "source": [
    "Divide the input space into groups based on the first two bits. This grouping reduces the number of observations needed to determine the function. The determined function is printed by input group, making it easier to analyse and understand the function's behaviour. "
   ]
  },
  {
   "cell_type": "markdown",
   "metadata": {},
   "source": [
    "_______________________________________________________________________________________________\n",
    "# Task 4\n",
    "Write a function that performs matrix multiplication on two rectangular lists containing floats in Python. "
   ]
  },
  {
   "cell_type": "markdown",
   "metadata": {},
   "source": [
    "**Understanding Matrix Multiplication:**\n",
    "Matrix Dimensions: \n",
    "For matrix multiplication, the number of columns in the first matrix must equal the number of rows in the second matrix. If Matrix A is of size m x n and Matrix B is of size n x p, their product will be a matrix of size m x p.\n",
    "\n",
    "**Element Calculation:**\n",
    "The element in the ith row and jth column of the resulting matrix is calculated by multiplying each element of the ith row of the first matrix with the corresponding element of the jth column of the second matrix and then summing up all these products.\n",
    "\n",
    "1. **Define the Function:**\n",
    "Start by defining the function matrix_multiply that takes two matrices (lists of lists of floats) as input.\n",
    "\n",
    "2. **Check Dimensions:** Check if the number of columns in the first matrix (length of any sub-list in matrix_a) equals the number of rows in the second matrix (length of matrix_b). If not, matrix multiplication is not possible, and you should raise an error.\n",
    "\n",
    "3. **Create a Result Matrix:** Initialize a result matrix with dimensions m x p (where m is the number of rows in the first matrix and p is the number of columns in the second matrix). This matrix will be filled with zeros initially.\n",
    "\n",
    "4. **Perform Multiplication:**\n",
    "Loop through each row of the first matrix (index i).\n",
    "Inside this loop, nest another loop for each column of the second matrix (index j).\n",
    "Within the nested loop, create another loop to traverse each element of the ith row of the first matrix and the jth column of the second matrix (index k).\n",
    "Multiply the elements (matrix_a[i][k] * matrix_b[k][j]) and add them to the current sum for the element in the i row and j column of the result matrix.\n",
    "\n",
    "5. **Return the Result:** After all the loops, return the result matrix, which now contains the product of the two input matrices."
   ]
  },
  {
   "cell_type": "code",
   "execution_count": 535,
   "metadata": {},
   "outputs": [
    {
     "name": "stdout",
     "output_type": "stream",
     "text": [
      "[30.0, 24.0, 18.0]\n",
      "[84.0, 69.0, 54.0]\n",
      "[138.0, 114.0, 90.0]\n"
     ]
    }
   ],
   "source": [
    "#Example 1\n",
    "\n",
    "def matrix_multiply(matrix1, matrix2):\n",
    "    # Check if the matrices can be multiplied\n",
    "    if len(matrix1[0]) != len(matrix2):\n",
    "        raise ValueError(\"Number of columns in the first matrix must be equal to the number of rows in the second matrix.\")\n",
    "\n",
    "    # Initialize the result matrix with zeros\n",
    "    result = [[0.0 for _ in range(len(matrix2[0]))] for _ in range(len(matrix1))]\n",
    "\n",
    "    # Perform matrix multiplication\n",
    "    for i in range(len(matrix1)):\n",
    "        for j in range(len(matrix2[0])):\n",
    "            for k in range(len(matrix2)):\n",
    "                result[i][j] += matrix1[i][k] * matrix2[k][j]\n",
    "\n",
    "    return result\n",
    "\n",
    "# Example matrices\n",
    "matrix_a = [\n",
    "    [1.0, 2.0, 3.0],\n",
    "    [4.0, 5.0, 6.0],\n",
    "    [7.0, 8.0, 9.0]\n",
    "]\n",
    "\n",
    "matrix_b = [\n",
    "    [9.0, 8.0, 7.0],\n",
    "    [6.0, 5.0, 4.0],\n",
    "    [3.0, 2.0, 1.0]\n",
    "]\n",
    "\n",
    "# Perform matrix multiplication\n",
    "result_matrix = matrix_multiply(matrix_a, matrix_b)\n",
    "\n",
    "# Display the result\n",
    "for row in result_matrix:\n",
    "    print(row)\n"
   ]
  },
  {
   "cell_type": "markdown",
   "metadata": {},
   "source": [
    "The function matrix_multiply takes two matrices (matrix1 and matrix2) as input and returns their product. It checks if the matrices can be multiplied by comparing the number of columns in the first matrix with the number of rows in the second matrix. The result is then calculated using nested loops for matrix multiplication. "
   ]
  },
  {
   "cell_type": "code",
   "execution_count": 536,
   "metadata": {},
   "outputs": [
    {
     "name": "stdout",
     "output_type": "stream",
     "text": [
      "Matrix A:\n",
      "[[1.0, 2.0], [3.0, 4.0]]\n",
      "\n",
      "Matrix B:\n",
      "[[2.0, 0.0], [1.0, 3.0]]\n",
      "\n",
      "Result of Matrix Multiplication:\n",
      "[[4.0, 6.0], [10.0, 12.0]]\n"
     ]
    }
   ],
   "source": [
    "#Example 2\n",
    "\n",
    "def matrix_multiply(matrix_a, matrix_b):\n",
    "    # Get the dimensions of the matrices\n",
    "    rows_a, cols_a = len(matrix_a), len(matrix_a[0])\n",
    "    rows_b, cols_b = len(matrix_b), len(matrix_b[0])\n",
    "    \n",
    "    # Check if multiplication is possible\n",
    "    if cols_a != rows_b:\n",
    "        raise ValueError(\"Number of columns in the first matrix must be equal to the number of rows in the second matrix.\")\n",
    "\n",
    "    # Initialize the result matrix with zeros\n",
    "    result = [[0 for _ in range(cols_b)] for _ in range(rows_a)]\n",
    "\n",
    "    # Perform matrix multiplication\n",
    "    for i in range(rows_a):\n",
    "        for j in range(cols_b):\n",
    "            for k in range(cols_a):  # or rows_b, they are the same\n",
    "                result[i][j] += matrix_a[i][k] * matrix_b[k][j]\n",
    "\n",
    "    return result\n",
    "\n",
    "# Example \n",
    "matrix_a = [[1.0, 2.0], [3.0, 4.0]]\n",
    "matrix_b = [[2.0, 0.0], [1.0, 3.0]]\n",
    "\n",
    "result = matrix_multiply(matrix_a, matrix_b)\n",
    "print(\"Matrix A:\")\n",
    "print(matrix_a)\n",
    "print(\"\\nMatrix B:\")\n",
    "print(matrix_b)\n",
    "print(\"\\nResult of Matrix Multiplication:\")\n",
    "print(result)\n"
   ]
  },
  {
   "cell_type": "markdown",
   "metadata": {},
   "source": [
    "Matrix_multiply takes two matrices matrix_a and matrix_b as input and returns their product. \n",
    "The function first checks if the matrices can be multiplied.\n",
    "Then it performs the multiplication and returns the resulting matrix."
   ]
  },
  {
   "cell_type": "code",
   "execution_count": 537,
   "metadata": {},
   "outputs": [
    {
     "name": "stdout",
     "output_type": "stream",
     "text": [
      "Result of Matrix Multiplication:\n",
      "[58.0, 64.0]\n",
      "[139.0, 154.0]\n"
     ]
    }
   ],
   "source": [
    "#Example 3\n",
    "\n",
    "def matrix_multiply(matrix_a, matrix_b):\n",
    "    rows_a, cols_a = len(matrix_a), len(matrix_a[0])\n",
    "    rows_b, cols_b = len(matrix_b), len(matrix_b[0])\n",
    "\n",
    "    if cols_a != rows_b:\n",
    "        raise ValueError(\"Cannot multiply: number of columns in the first matrix must equal the number of rows in the second matrix.\")\n",
    "\n",
    "    result = [[0 for _ in range(cols_b)] for _ in range(rows_a)]\n",
    "\n",
    "    for i in range(rows_a):\n",
    "        for j in range(cols_b):\n",
    "            for k in range(cols_a):  # or rows_b\n",
    "                result[i][j] += matrix_a[i][k] * matrix_b[k][j]\n",
    "\n",
    "    return result\n",
    "\n",
    "matrix_a = [[1.0, 2.0, 3.0], [4.0, 5.0, 6.0]]\n",
    "matrix_b = [[7.0, 8.0], [9.0, 10.0], [11.0, 12.0]]\n",
    "\n",
    "result = matrix_multiply(matrix_a, matrix_b)\n",
    "print(\"Result of Matrix Multiplication:\")\n",
    "for row in result:\n",
    "    print(row)\n",
    "\n",
    "\n",
    "\n"
   ]
  },
  {
   "cell_type": "markdown",
   "metadata": {},
   "source": [
    "This code defines a function named matrix_multiply that performs matrix multiplication on two input matrices, matrix_a and matrix_b. The function first checks if the matrices can be legally multiplied by comparing the number of columns in matrix_a with the number of rows in matrix_b. If these dimensions are not compatible, it raises a ValueError."
   ]
  },
  {
   "cell_type": "code",
   "execution_count": 538,
   "metadata": {},
   "outputs": [
    {
     "name": "stdout",
     "output_type": "stream",
     "text": [
      "Matrix A x Matrix B:\n",
      "[61.5, 68.0]\n",
      "[142.5, 158.0]\n"
     ]
    }
   ],
   "source": [
    "#Example 3\n",
    "\n",
    "def matrix_multiply(matrix_a, matrix_b):\n",
    "    # Check if the number of columns in the first matrix equals the number of rows in the second matrix\n",
    "    if len(matrix_a[0]) != len(matrix_b):\n",
    "        raise ValueError(\"The number of columns in the first matrix must equal the number of rows in the second matrix.\")\n",
    "\n",
    "    # Initialize the result matrix with zeros\n",
    "    result = [[0.0 for _ in range(len(matrix_b[0]))] for _ in range(len(matrix_a))]\n",
    "\n",
    "    # Perform matrix multiplication\n",
    "    for i in range(len(matrix_a)):\n",
    "        for j in range(len(matrix_b[0])):\n",
    "            for k in range(len(matrix_a[0])):\n",
    "                result[i][j] += matrix_a[i][k] * matrix_b[k][j]\n",
    "\n",
    "    return result\n",
    "\n",
    "# Example usage\n",
    "matrix_a = [[1.5, 2.0, 3.0], [4.5, 5.0, 6.0]]\n",
    "matrix_b = [[7.0, 8.0], [9.0, 10.0], [11.0, 12.0]]\n",
    "\n",
    "result = matrix_multiply(matrix_a, matrix_b)\n",
    "print(\"Matrix A x Matrix B:\")\n",
    "for row in result:\n",
    "    print(row)\n"
   ]
  },
  {
   "cell_type": "markdown",
   "metadata": {},
   "source": [
    "It first checks if matrix multiplication is possible by ensuring the number of columns in the first matrix equals the number of rows in the second matrix. \n",
    "It initialises a result matrix filled with zeros. The size of the result matrix is determined by the number of rows in the first matrix and the number of columns in the second matrix.\n",
    "It then performs matrix multiplication using nested loops. The innermost loop computes the product of elements from the row of the first matrix and the column of the second matrix and accumulates the sum.\n",
    "Then prints the resulting matrix. "
   ]
  }
 ],
 "metadata": {
  "kernelspec": {
   "display_name": "base",
   "language": "python",
   "name": "python3"
  },
  "language_info": {
   "codemirror_mode": {
    "name": "ipython",
    "version": 3
   },
   "file_extension": ".py",
   "mimetype": "text/x-python",
   "name": "python",
   "nbconvert_exporter": "python",
   "pygments_lexer": "ipython3",
   "version": "3.11.4"
  },
  "orig_nbformat": 4
 },
 "nbformat": 4,
 "nbformat_minor": 2
}
